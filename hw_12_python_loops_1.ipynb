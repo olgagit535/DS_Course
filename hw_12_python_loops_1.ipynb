{
 "cells": [
  {
   "cell_type": "markdown",
   "id": "08f1c51f",
   "metadata": {
    "pycharm": {
     "name": "#%% md\n"
    }
   },
   "source": [
    "# Домашнє завдання до теми \"Python: Цикли\"\n",
    "В цьому ДЗ знову важливою умовою виконання завдань є те, що ми не імпортуємо жодних бібліотек, а робимо все на чистому Python, використовуючи лише базовий функціонал. Це необхідно аби відпрацювати роботу з базовими типами даних і циклами. А вже з наступного модуля ми во всю будемо використовувати бібліотеки :)"
   ]
  },
  {
   "cell_type": "markdown",
   "id": "4b644569",
   "metadata": {},
   "source": [
    "0.Розігрів. Напишіть цикл, який виводить на екран числа від 1 до 10 включно."
   ]
  },
  {
   "cell_type": "code",
   "execution_count": 1,
   "id": "bce14642",
   "metadata": {},
   "outputs": [
    {
     "name": "stdout",
     "output_type": "stream",
     "text": [
      "1, 2, 3, 4, 5, 6, 7, 8, 9, 10, "
     ]
    }
   ],
   "source": [
    "for i in range(1,11):\n",
    "    print(i, end=\", \")"
   ]
  },
  {
   "cell_type": "code",
   "execution_count": null,
   "id": "d4c9ee71",
   "metadata": {},
   "outputs": [],
   "source": [
    "list(range(11))"
   ]
  },
  {
   "cell_type": "markdown",
   "id": "7b7351c7",
   "metadata": {},
   "source": [
    "**Початок покладено!**"
   ]
  },
  {
   "cell_type": "markdown",
   "id": "594b2248",
   "metadata": {},
   "source": [
    "Для наступних завдань у нас є наступний список:"
   ]
  },
  {
   "cell_type": "code",
   "execution_count": null,
   "id": "d8222fc1",
   "metadata": {},
   "outputs": [],
   "source": [
    "numbers = [42, 51, 29, 2, 13, 44, 80, 66, 16]"
   ]
  },
  {
   "cell_type": "markdown",
   "id": "fca24ff1",
   "metadata": {
    "pycharm": {
     "name": "#%% md\n"
    }
   },
   "source": [
    "1.Використовуючи цикл for cтворіть новий список `numbers_squared`, де кожен елемент списку `numbers` є домноженим на 2. Нагадаю, що фактично коли ми з допомогою циклу отримуємо новий список, то ми спочатку створюємо пустий список, а потім додаємо в нього новий елемент на кожній ітерації. Новий елемент буде в даному випадку результатом домножання чергового елемента вихідного списку `numbers` на 2."
   ]
  },
  {
   "cell_type": "code",
   "execution_count": null,
   "id": "730357c5",
   "metadata": {},
   "outputs": [],
   "source": [
    "numbers = [42, 51, 29, 2, 13, 44, 80, 66, 16]\n",
    "numbers_squared = []\n",
    "for num in numbers:\n",
    "    numbers_squared.append(num * 2)\n",
    "\n",
    "print(numbers_squared)"
   ]
  },
  {
   "cell_type": "markdown",
   "id": "0dce0d8e",
   "metadata": {
    "pycharm": {
     "name": "#%% md\n"
    }
   },
   "source": [
    "Очікуваний результат: `[84, 102, 58, 4, 26, 88, 160, 132, 32]`"
   ]
  },
  {
   "cell_type": "markdown",
   "id": "f5f56f80",
   "metadata": {},
   "source": [
    "2.Використовуючи `list comprehension` cтворіть новий список `numbers_squared_lh`, де кожен елемент списку `numbers` є домноженим 2.\n",
    "Так, операція, яку ми викнуємо над кожним елементом вихідного списку, та сама, що і в попередньому завданні, але інший спосіб отримання результату."
   ]
  },
  {
   "cell_type": "code",
   "execution_count": null,
   "id": "57e297b4",
   "metadata": {},
   "outputs": [],
   "source": [
    "numbers = [42, 51, 29, 2, 13, 44, 80, 66, 16]\n",
    "numbers_squared_lh = [num * 2 for num in numbers]\n",
    "numbers_squared_lh"
   ]
  },
  {
   "cell_type": "markdown",
   "id": "a059713f",
   "metadata": {},
   "source": [
    "Очікуваний результат: `[84, 102, 58, 4, 26, 88, 160, 132, 32]`"
   ]
  },
  {
   "cell_type": "code",
   "execution_count": null,
   "id": "e3c74566",
   "metadata": {
    "ExecuteTime": {
     "end_time": "2023-10-15T21:35:52.901779Z",
     "start_time": "2023-10-15T21:35:52.895422Z"
    }
   },
   "outputs": [],
   "source": [
    "a = [64, 93, 60, 95, 66, 9, 15, 55, 77, 28, 74, 100, 13, 1, 85, 48, 66, 65, 59, 32]\n",
    "b = [64, 93, 60, 95, 66, 9, 15, 56, 77, 28, 74, 100, 13, 1, 85, 48, 67, 65, 59, 3]"
   ]
  },
  {
   "cell_type": "markdown",
   "id": "9af1b295",
   "metadata": {},
   "source": [
    "3.Задано два списки в клітинці нижче - `a` і `b`. Створіть цикл, результатом якого буде список `result`, що містить елементи типу bool і який фактично каже, \n",
    "\"чи на цьому індексі елементи наших двох списків співпадають\". Приклад:\n",
    "```\n",
    "a = [1, 2, 3, 6]\n",
    "b = [1, 7, 3, 6]\n",
    "# ми виконали поелементне порівняння двох списків і отримали новий список result\n",
    "# result містить наступний результат -> [True, False, True, True]\n",
    "```\n",
    "В кінці виведіть вміст result на екран."
   ]
  },
  {
   "cell_type": "code",
   "execution_count": null,
   "id": "aa2699a8",
   "metadata": {},
   "outputs": [],
   "source": [
    "list(range(len(min(a, b))))"
   ]
  },
  {
   "cell_type": "code",
   "execution_count": null,
   "id": "ca473010",
   "metadata": {},
   "outputs": [],
   "source": [
    "result = []\n",
    "for idx in range(min(len(a), len(b))):\n",
    "    result.append(a[idx]== b[idx])\n",
    "result"
   ]
  },
  {
   "cell_type": "markdown",
   "id": "c267a553",
   "metadata": {
    "pycharm": {
     "name": "#%% md\n"
    }
   },
   "source": [
    "4.Давайте знайдемо середнє арифметичне значення елементів списку `numbers` округлене до 2 цифр після коми та запишемо його у змінну `numbers_mean`. Для цього виконаємо два простих кроки.\n",
    "1. Знайдіть суму всіх елементів списку `numbers` та запишіть її у змінну `numbers_sum`.\n",
    "2. Обчисліть `numbers_mean` шляхом ділення суми елементів у списку на їх кількість. Кількість елементів в списку - це його довжина.\n",
    "\n",
    "Виведіть `numbers_mean`, округлений до 2 цифр після коми, на екран.\n",
    "\n",
    "**Підказка**: округлити число можна з використанням вбудованої функції Python [round()](https://docs.python.org/3/library/functions.html#round)."
   ]
  },
  {
   "cell_type": "code",
   "execution_count": null,
   "id": "f4c9deaf",
   "metadata": {},
   "outputs": [],
   "source": [
    "numbers = [42, 51, 29, 2, 13, 44, 80, 66, 16]\n",
    "numbers_mean = sum(numbers)/9\n",
    "round(numbers_mean,2) #2 кількість десяткових знаків"
   ]
  },
  {
   "cell_type": "markdown",
   "id": "3c93580f",
   "metadata": {},
   "source": [
    "Очікуваний результат: `38.11`"
   ]
  },
  {
   "cell_type": "markdown",
   "id": "079359aa",
   "metadata": {
    "pycharm": {
     "name": "#%% md\n"
    }
   },
   "source": [
    "5.Використовуючи цикл, створіть новий список `numbers_gt_mean`, який порівнює кожен елемент з середнім значенням за списокм, знайденим в попередньому завданні, за наступним правилом: \"якщо цей елемент спиcку `numbers` є більшим за `numbers_mean`, то запишемо 1, інакше 0\". Виведіть новий список на екран."
   ]
  },
  {
   "cell_type": "code",
   "execution_count": null,
   "id": "ad1600f1",
   "metadata": {},
   "outputs": [],
   "source": [
    "numbers = [42, 51, 29, 2, 13, 44, 80, 66, 16]\n",
    "numbers_mean = sum(numbers)/9\n",
    "round(numbers_mean,2)\n",
    "\n",
    "numbers_gt_mean = []\n",
    "for num in numbers:\n",
    "    if num > numbers_mean:\n",
    "        numbers_gt_mean.append(1)\n",
    "    else:\n",
    "        numbers_gt_mean.append(0)\n",
    "print(numbers_gt_mean)"
   ]
  },
  {
   "cell_type": "markdown",
   "id": "3079f1e6",
   "metadata": {},
   "source": [
    "Очікуваний результат: `[1, 1, 0, 0, 0, 1, 1, 1, 0]`"
   ]
  },
  {
   "cell_type": "markdown",
   "id": "340637e7",
   "metadata": {},
   "source": [
    "6.Отримайте список за тим самим правилом, що в завданні 5, тільки тепер з list comprehension. Результат запишіть у змінну `numbers_gt_mean_lc`"
   ]
  },
  {
   "cell_type": "code",
   "execution_count": null,
   "id": "6b2b4bd1",
   "metadata": {},
   "outputs": [],
   "source": [
    "numbers = [42, 51, 29, 2, 13, 44, 80, 66, 16]\n",
    "numbers_gt_mean_lc = [1 if num > numbers_mean else 0 for num in numbers]\n",
    "numbers_gt_mean_lc"
   ]
  },
  {
   "cell_type": "markdown",
   "id": "eef1aae7",
   "metadata": {
    "pycharm": {
     "name": "#%% md\n"
    }
   },
   "source": [
    "7.Задано список `a` і елемент `element`. Перевірте програмно чи є в списку `a` елемент `element` з допомогою інструкцій `if ... else`. Виведіть на екран відповідь \"Так, є\", якщо цей елемент в списку присутній, або \"Ні, нема\", якщо його там немає.\n",
    "Важливо це зробити без використання імпортів будь-яких бібліотек."
   ]
  },
  {
   "cell_type": "code",
   "execution_count": null,
   "id": "766170f3",
   "metadata": {
    "ExecuteTime": {
     "end_time": "2023-10-15T22:00:51.302427Z",
     "start_time": "2023-10-15T22:00:51.298616Z"
    },
    "pycharm": {
     "name": "#%%\n"
    }
   },
   "outputs": [],
   "source": [
    "a = [64, 93, 60, 95, 66, 9, 15, 55, 77, 28, 74, 100, 13, 1, 85, 48, 66, 65, 59, 32]\n",
    "element = 33\n",
    "if element in a:\n",
    "    print(\"Так, є\")\n",
    "else: \n",
    "    print(\"Ні, нема\")"
   ]
  },
  {
   "cell_type": "markdown",
   "id": "0d1d63f5",
   "metadata": {},
   "source": [
    "8.Тепер у нас не один елемент, а кілька. Вони наведені в змінній `elements`. За допомогою циклу і інструкцій `if ... else` для кожного елемента списку `elements` перевірте, чи він є в списку `a`. \n",
    "Виведіть на екран відповідь \"Так, є елемент <вставити значення елемента>\", якщо елемент в списку присутній, або \"Ні, нема елемента <вставити значення елемента>\", якщо його там немає."
   ]
  },
  {
   "cell_type": "code",
   "execution_count": null,
   "id": "9493772e",
   "metadata": {
    "ExecuteTime": {
     "end_time": "2023-10-15T22:05:24.312550Z",
     "start_time": "2023-10-15T22:05:24.309691Z"
    }
   },
   "outputs": [],
   "source": [
    "a = [64, 93, 60, 95, 66, 9, 15, 55, 77, 28, 74, 100, 13, 1, 85, 48, 66, 65, 59, 32]\n",
    "elements = [64, 93, 60, 95, 66]\n",
    "\n",
    "for el in a:\n",
    "    if el in elements:\n",
    "        print('Так, є елемент', el)\n",
    "    else: \n",
    "        print('Ні, нема елемента', el)\n",
    "        "
   ]
  },
  {
   "cell_type": "markdown",
   "id": "cee3dda8",
   "metadata": {
    "pycharm": {
     "name": "#%% md\n"
    }
   },
   "source": [
    "9.Заданий список `long`. З допомогою циклу створіть словник `n_repeats`, який містить інформацію \"скільки разів повторюється кожен унікальний елемент списку `long`\".\n",
    "Наприклад:\n",
    "```\n",
    "long = [1, 1, 2, 2, 3]\n",
    "# тоді `n_repeats` містить {1: 2, 2: 2, 3: 1}\n",
    "```\n",
    "\n",
    "Аби для кожного унікального елементу знайти, скільки разів він повторюється, виористайте метод списку `list.count(<елемент>)`. \n",
    "Виведіть `n_repeats` на екран. \n",
    "\n",
    "**Підказки**: \n",
    "1. Для початку може бути зручно отримати набір унікальних елементів списку.\n",
    "2. Порядок ключів в словнику не має значення! Тобто ключі в словнику не обовʼязково мають бути в тому ж порядку, як наведено в прикладі результату. Але кількості зустрічань для кожного елемента мають співпадати з наведеними. "
   ]
  },
  {
   "cell_type": "code",
   "execution_count": null,
   "id": "635b5f09",
   "metadata": {
    "ExecuteTime": {
     "end_time": "2023-10-15T22:08:04.248991Z",
     "start_time": "2023-10-15T22:08:04.245858Z"
    }
   },
   "outputs": [],
   "source": [
    "long = [75, 39, 95, 1, 91, 43, 97, 24, 86, 75, 92, 91, 15, 15, 75, 95, 54, 29, 55, 98]\n",
    "n_repeats = {}\n",
    "unic = set(long)\n",
    "\n",
    "for el in unic: \n",
    "    #to get key\n",
    "    n_repeats[el] = long.count(el)\n",
    "print(n_repeats)"
   ]
  },
  {
   "cell_type": "markdown",
   "id": "9858eefd",
   "metadata": {
    "pycharm": {
     "name": "#%% md\n"
    }
   },
   "source": [
    "Очікуваний результат: \n",
    "```\n",
    "{1: 1, 97: 1, 98: 1, 39: 1, 75: 3, 43: 1, 15: 2, 55: 1, 86: 1, 54: 1, 24: 1, 91: 2, 92: 1, 29: 1, 95: 2}\n",
    "\n",
    "```"
   ]
  },
  {
   "cell_type": "markdown",
   "id": "857b864c",
   "metadata": {},
   "source": [
    "10.Виконайте ту саму операцію, що і в попередньому заваднні, але використовуючи `dict comprehension`. Результат запишіть у змінну `n_repeats_dh` та результат виведіть на екран. "
   ]
  },
  {
   "cell_type": "code",
   "execution_count": 4,
   "id": "419c1bfa",
   "metadata": {},
   "outputs": [
    {
     "data": {
      "text/plain": [
       "{1: 1,\n",
       " 97: 1,\n",
       " 98: 1,\n",
       " 39: 1,\n",
       " 75: 3,\n",
       " 43: 1,\n",
       " 15: 2,\n",
       " 55: 1,\n",
       " 86: 1,\n",
       " 54: 1,\n",
       " 24: 1,\n",
       " 91: 2,\n",
       " 92: 1,\n",
       " 29: 1,\n",
       " 95: 2}"
      ]
     },
     "execution_count": 4,
     "metadata": {},
     "output_type": "execute_result"
    }
   ],
   "source": [
    "long = [75, 39, 95, 1, 91, 43, 97, 24, 86, 75, 92, 91, 15, 15, 75, 95, 54, 29, 55, 98]\n",
    "n_repeats = {}\n",
    "unic = set(long)\n",
    "n_repeats = {el: long.count(el) for el in unic}\n",
    "n_repeats\n",
    "\n",
    "#PS поки що важко зрозуміти струкруту {el: long.count(el) - dict comprehension треба більше для себе практики"
   ]
  },
  {
   "cell_type": "markdown",
   "id": "10c98ea7",
   "metadata": {
    "pycharm": {
     "name": "#%% md\n"
    }
   },
   "source": [
    "11.Знайдіть три найменші **унікальні** елементи в списку `long` та виведіть їх на екран."
   ]
  },
  {
   "cell_type": "code",
   "execution_count": null,
   "id": "591d6255",
   "metadata": {},
   "outputs": [],
   "source": [
    "---"
   ]
  },
  {
   "cell_type": "markdown",
   "id": "672d2981",
   "metadata": {
    "pycharm": {
     "name": "#%% md\n"
    }
   },
   "source": [
    "Очікувана відповідь: [1, 15, 24]\n"
   ]
  }
 ],
 "metadata": {
  "kernelspec": {
   "display_name": "Python 3 (ipykernel)",
   "language": "python",
   "name": "python3"
  },
  "language_info": {
   "codemirror_mode": {
    "name": "ipython",
    "version": 3
   },
   "file_extension": ".py",
   "mimetype": "text/x-python",
   "name": "python",
   "nbconvert_exporter": "python",
   "pygments_lexer": "ipython3",
   "version": "3.9.13"
  },
  "toc": {
   "base_numbering": 1,
   "nav_menu": {},
   "number_sections": true,
   "sideBar": true,
   "skip_h1_title": false,
   "title_cell": "Table of Contents",
   "title_sidebar": "Contents",
   "toc_cell": false,
   "toc_position": {},
   "toc_section_display": true,
   "toc_window_display": false
  }
 },
 "nbformat": 4,
 "nbformat_minor": 5
}
